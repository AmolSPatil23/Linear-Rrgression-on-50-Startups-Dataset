{
 "cells": [
  {
   "cell_type": "markdown",
   "metadata": {
    "id": "PYsTFWXYjCxF"
   },
   "source": [
    "### <u> Objective </u>\n",
    "* ### To predict the profit made by a startup on the basis of expenses incurred and the state where they operate"
   ]
  },
  {
   "cell_type": "markdown",
   "metadata": {},
   "source": [
    "Data Source: https://www.kaggle.com/datasets/farhanmd29/50-startups"
   ]
  },
  {
   "cell_type": "code",
   "execution_count": 1,
   "metadata": {
    "executionInfo": {
     "elapsed": 8,
     "status": "ok",
     "timestamp": 1680008571352,
     "user": {
      "displayName": "Amol Patil",
      "userId": "02931329699757759055"
     },
     "user_tz": -330
    },
    "id": "tkMhzOURjCxF"
   },
   "outputs": [
    {
     "name": "stderr",
     "output_type": "stream",
     "text": [
      "Matplotlib is building the font cache; this may take a moment.\n"
     ]
    }
   ],
   "source": [
    "# Importing the libraries\n",
    "import numpy as np\n",
    "import pandas as pd\n",
    "from numpy import math\n",
    "\n",
    "from sklearn.preprocessing import MinMaxScaler\n",
    "from sklearn.model_selection import train_test_split\n",
    "from sklearn.linear_model import LinearRegression\n",
    "from sklearn.metrics import r2_score\n",
    "from sklearn.metrics import mean_squared_error\n",
    "\n",
    "import matplotlib.pyplot as plt"
   ]
  },
  {
   "cell_type": "code",
   "execution_count": 4,
   "metadata": {
    "executionInfo": {
     "elapsed": 1737,
     "status": "ok",
     "timestamp": 1680008644958,
     "user": {
      "displayName": "Amol Patil",
      "userId": "02931329699757759055"
     },
     "user_tz": -330
    },
    "id": "tPpx4MzcjCxG"
   },
   "outputs": [],
   "source": [
    "# Importing the dataset\n",
    "dataset = pd.read_csv(\"C:/Users/ravils/Almabetter/50_Startups.csv\")"
   ]
  },
  {
   "cell_type": "code",
   "execution_count": 5,
   "metadata": {
    "colab": {
     "base_uri": "https://localhost:8080/"
    },
    "executionInfo": {
     "elapsed": 1269,
     "status": "ok",
     "timestamp": 1680008673842,
     "user": {
      "displayName": "Amol Patil",
      "userId": "02931329699757759055"
     },
     "user_tz": -330
    },
    "id": "1ZRdDurrjCxG",
    "outputId": "db3920fa-d61d-4671-a040-c089be9e4e7d"
   },
   "outputs": [
    {
     "data": {
      "text/plain": [
       "50"
      ]
     },
     "execution_count": 5,
     "metadata": {},
     "output_type": "execute_result"
    }
   ],
   "source": [
    "len(dataset)"
   ]
  },
  {
   "cell_type": "code",
   "execution_count": 6,
   "metadata": {
    "colab": {
     "base_uri": "https://localhost:8080/",
     "height": 206
    },
    "executionInfo": {
     "elapsed": 13,
     "status": "ok",
     "timestamp": 1680008674283,
     "user": {
      "displayName": "Amol Patil",
      "userId": "02931329699757759055"
     },
     "user_tz": -330
    },
    "id": "09Lq6u-JjCxI",
    "outputId": "05c274f5-3a0e-4367-ef4d-d72a0e405faf"
   },
   "outputs": [
    {
     "data": {
      "text/html": [
       "<div>\n",
       "<style scoped>\n",
       "    .dataframe tbody tr th:only-of-type {\n",
       "        vertical-align: middle;\n",
       "    }\n",
       "\n",
       "    .dataframe tbody tr th {\n",
       "        vertical-align: top;\n",
       "    }\n",
       "\n",
       "    .dataframe thead th {\n",
       "        text-align: right;\n",
       "    }\n",
       "</style>\n",
       "<table border=\"1\" class=\"dataframe\">\n",
       "  <thead>\n",
       "    <tr style=\"text-align: right;\">\n",
       "      <th></th>\n",
       "      <th>R&amp;D Spend</th>\n",
       "      <th>Administration</th>\n",
       "      <th>Marketing Spend</th>\n",
       "      <th>State</th>\n",
       "      <th>Profit</th>\n",
       "    </tr>\n",
       "  </thead>\n",
       "  <tbody>\n",
       "    <tr>\n",
       "      <th>0</th>\n",
       "      <td>165349.20</td>\n",
       "      <td>136897.80</td>\n",
       "      <td>471784.10</td>\n",
       "      <td>New York</td>\n",
       "      <td>192261.83</td>\n",
       "    </tr>\n",
       "    <tr>\n",
       "      <th>1</th>\n",
       "      <td>162597.70</td>\n",
       "      <td>151377.59</td>\n",
       "      <td>443898.53</td>\n",
       "      <td>California</td>\n",
       "      <td>191792.06</td>\n",
       "    </tr>\n",
       "    <tr>\n",
       "      <th>2</th>\n",
       "      <td>153441.51</td>\n",
       "      <td>101145.55</td>\n",
       "      <td>407934.54</td>\n",
       "      <td>Florida</td>\n",
       "      <td>191050.39</td>\n",
       "    </tr>\n",
       "    <tr>\n",
       "      <th>3</th>\n",
       "      <td>144372.41</td>\n",
       "      <td>118671.85</td>\n",
       "      <td>383199.62</td>\n",
       "      <td>New York</td>\n",
       "      <td>182901.99</td>\n",
       "    </tr>\n",
       "    <tr>\n",
       "      <th>4</th>\n",
       "      <td>142107.34</td>\n",
       "      <td>91391.77</td>\n",
       "      <td>366168.42</td>\n",
       "      <td>Florida</td>\n",
       "      <td>166187.94</td>\n",
       "    </tr>\n",
       "  </tbody>\n",
       "</table>\n",
       "</div>"
      ],
      "text/plain": [
       "   R&D Spend  Administration  Marketing Spend       State     Profit\n",
       "0  165349.20       136897.80        471784.10    New York  192261.83\n",
       "1  162597.70       151377.59        443898.53  California  191792.06\n",
       "2  153441.51       101145.55        407934.54     Florida  191050.39\n",
       "3  144372.41       118671.85        383199.62    New York  182901.99\n",
       "4  142107.34        91391.77        366168.42     Florida  166187.94"
      ]
     },
     "execution_count": 6,
     "metadata": {},
     "output_type": "execute_result"
    }
   ],
   "source": [
    "dataset.head()"
   ]
  },
  {
   "cell_type": "code",
   "execution_count": 7,
   "metadata": {
    "colab": {
     "base_uri": "https://localhost:8080/"
    },
    "executionInfo": {
     "elapsed": 601,
     "status": "ok",
     "timestamp": 1680009080866,
     "user": {
      "displayName": "Amol Patil",
      "userId": "02931329699757759055"
     },
     "user_tz": -330
    },
    "id": "B5-7qlkJjCxJ",
    "outputId": "ea0d8e62-6bad-468b-f29b-496f7f0b256d"
   },
   "outputs": [
    {
     "data": {
      "text/plain": [
       "(50, 5)"
      ]
     },
     "execution_count": 7,
     "metadata": {},
     "output_type": "execute_result"
    }
   ],
   "source": [
    "dataset.shape"
   ]
  },
  {
   "cell_type": "code",
   "execution_count": 8,
   "metadata": {
    "colab": {
     "base_uri": "https://localhost:8080/",
     "height": 295
    },
    "executionInfo": {
     "elapsed": 543,
     "status": "ok",
     "timestamp": 1680009105831,
     "user": {
      "displayName": "Amol Patil",
      "userId": "02931329699757759055"
     },
     "user_tz": -330
    },
    "id": "VoZpfEQ0jCxJ",
    "outputId": "e413cc8b-0f00-467c-b991-bec439297a26"
   },
   "outputs": [
    {
     "data": {
      "image/png": "[encoded data removed]",
      "text/plain": [
       "<Figure size 432x288 with 1 Axes>"
      ]
     },
     "metadata": {
      "needs_background": "light"
     },
     "output_type": "display_data"
    }
   ],
   "source": [
    "plt.scatter(dataset['Marketing Spend'], dataset['Profit'], alpha=0.5)\n",
    "plt.title('Scatter plot of Profit with Marketing Spend')\n",
    "plt.xlabel('Marketing Spend')\n",
    "plt.ylabel('Profit')\n",
    "plt.show()"
   ]
  },
  {
   "cell_type": "code",
   "execution_count": 9,
   "metadata": {
    "colab": {
     "base_uri": "https://localhost:8080/",
     "height": 295
    },
    "executionInfo": {
     "elapsed": 655,
     "status": "ok",
     "timestamp": 1680009116062,
     "user": {
      "displayName": "Amol Patil",
      "userId": "02931329699757759055"
     },
     "user_tz": -330
    },
    "id": "aiwUW_ZbjCxK",
    "outputId": "86b7ca98-a513-477a-d38f-39663f344fc4"
   },
   "outputs": [
    {
     "data": {
      "image/png": "[encoded data removed]",
      "text/plain": [
       "<Figure size 432x288 with 1 Axes>"
      ]
     },
     "metadata": {
      "needs_background": "light"
     },
     "output_type": "display_data"
    }
   ],
   "source": [
    "plt.scatter(dataset['R&D Spend'], dataset['Profit'], alpha=0.5)\n",
    "plt.title('Scatter plot of Profit with R&D Spend')\n",
    "plt.xlabel('R&D Spend')\n",
    "plt.ylabel('Profit')\n",
    "plt.show()"
   ]
  },
  {
   "cell_type": "code",
   "execution_count": 10,
   "metadata": {
    "colab": {
     "base_uri": "https://localhost:8080/",
     "height": 295
    },
    "executionInfo": {
     "elapsed": 1115,
     "status": "ok",
     "timestamp": 1680009127744,
     "user": {
      "displayName": "Amol Patil",
      "userId": "02931329699757759055"
     },
     "user_tz": -330
    },
    "id": "8SfhL_eZjCxK",
    "outputId": "5e5169bc-41e5-45ee-d42b-926091a68e70"
   },
   "outputs": [
    {
     "data": {
      "image/png": "[encoded data removed]",
      "text/plain": [
       "<Figure size 432x288 with 1 Axes>"
      ]
     },
     "metadata": {
      "needs_background": "light"
     },
     "output_type": "display_data"
    }
   ],
   "source": [
    "plt.scatter(dataset['Administration'], dataset['Profit'], alpha=0.5)\n",
    "plt.title('Scatter plot of Profit with Administration')\n",
    "plt.xlabel('Administration')\n",
    "plt.ylabel('Profit')\n",
    "plt.show()"
   ]
  },
  {
   "cell_type": "code",
   "execution_count": 25,
   "metadata": {
    "colab": {
     "base_uri": "https://localhost:8080/",
     "height": 434
    },
    "executionInfo": {
     "elapsed": 882,
     "status": "ok",
     "timestamp": 1680009393329,
     "user": {
      "displayName": "Amol Patil",
      "userId": "02931329699757759055"
     },
     "user_tz": -330
    },
    "id": "r4Ko2IDIjCxK",
    "outputId": "b5e0b0e7-de2a-4f83-dfd8-79e66ff088f9",
    "scrolled": true
   },
   "outputs": [
    {
     "data": {
      "text/plain": [
       "Text(0, 0.5, 'Profit')"
      ]
     },
     "execution_count": 25,
     "metadata": {},
     "output_type": "execute_result"
    },
    {
     "data": {
      "image/png": "[encoded data removed]",
      "text/plain": [
       "<Figure size 576x288 with 1 Axes>"
      ]
     },
     "metadata": {
      "needs_background": "light"
     },
     "output_type": "display_data"
    }
   ],
   "source": [
    "# Create the figure object \n",
    "ax = dataset.groupby(['State'])['Profit'].mean().plot.bar(\n",
    "    figsize = (8,4),\n",
    "    fontsize = 10\n",
    ")\n",
    "\n",
    "# Set the title\n",
    "ax.set_title(\"Average profit for different states where the startups operate\", fontsize = 15)\n",
    "\n",
    "# Set x and y-labels\n",
    "ax.set_xlabel(\"State\", fontsize = 12)\n",
    "ax.set_ylabel(\"Profit\", fontsize = 12)"
   ]
  },
  {
   "cell_type": "markdown",
   "metadata": {
    "id": "imfcC_JwZUDy"
   },
   "source": [
    "The average profit is higher in Florida as it is less expensive state than New York and California. So the operating cost is lower in Florida, hence the margin of profit would be high. "
   ]
  },
  {
   "cell_type": "code",
   "execution_count": 26,
   "metadata": {
    "colab": {
     "base_uri": "https://localhost:8080/"
    },
    "executionInfo": {
     "elapsed": 544,
     "status": "ok",
     "timestamp": 1680009510346,
     "user": {
      "displayName": "Amol Patil",
      "userId": "02931329699757759055"
     },
     "user_tz": -330
    },
    "id": "4EpGYvY2jCxL",
    "outputId": "d6ce2614-4ec5-4bd1-b9fe-8211092a06e4"
   },
   "outputs": [
    {
     "data": {
      "text/plain": [
       "New York      17\n",
       "California    17\n",
       "Florida       16\n",
       "Name: State, dtype: int64"
      ]
     },
     "execution_count": 26,
     "metadata": {},
     "output_type": "execute_result"
    }
   ],
   "source": [
    "dataset.State.value_counts()"
   ]
  },
  {
   "cell_type": "code",
   "execution_count": 27,
   "metadata": {
    "executionInfo": {
     "elapsed": 1105,
     "status": "ok",
     "timestamp": 1680010215099,
     "user": {
      "displayName": "Amol Patil",
      "userId": "02931329699757759055"
     },
     "user_tz": -330
    },
    "id": "vkF4Ve4tjCxL"
   },
   "outputs": [],
   "source": [
    "# Create dummy variables for the catgeorical variable State\n",
    "dataset['NewYork_State'] = np.where(dataset['State']=='New York', 1, 0)\n",
    "dataset['California_State'] = np.where(dataset['State']=='California', 1, 0)\n",
    "dataset['Florida_State'] = np.where(dataset['State']=='Florida', 1, 0)\n",
    "\n",
    "# Drop the original column State from the dataframe\n",
    "dataset.drop(columns=['State'],axis=1,inplace=True)"
   ]
  },
  {
   "cell_type": "code",
   "execution_count": 28,
   "metadata": {
    "colab": {
     "base_uri": "https://localhost:8080/",
     "height": 195
    },
    "executionInfo": {
     "elapsed": 838,
     "status": "ok",
     "timestamp": 1617292329671,
     "user": {
      "displayName": "Cohort Aravali",
      "photoUrl": "",
      "userId": "16202148766720913907"
     },
     "user_tz": -330
    },
    "id": "K6axq9hTjCxL",
    "outputId": "3b0cc303-e246-48cd-a584-f817d5e8e989"
   },
   "outputs": [
    {
     "data": {
      "text/html": [
       "<div>\n",
       "<style scoped>\n",
       "    .dataframe tbody tr th:only-of-type {\n",
       "        vertical-align: middle;\n",
       "    }\n",
       "\n",
       "    .dataframe tbody tr th {\n",
       "        vertical-align: top;\n",
       "    }\n",
       "\n",
       "    .dataframe thead th {\n",
       "        text-align: right;\n",
       "    }\n",
       "</style>\n",
       "<table border=\"1\" class=\"dataframe\">\n",
       "  <thead>\n",
       "    <tr style=\"text-align: right;\">\n",
       "      <th></th>\n",
       "      <th>R&amp;D Spend</th>\n",
       "      <th>Administration</th>\n",
       "      <th>Marketing Spend</th>\n",
       "      <th>Profit</th>\n",
       "      <th>NewYork_State</th>\n",
       "      <th>California_State</th>\n",
       "      <th>Florida_State</th>\n",
       "    </tr>\n",
       "  </thead>\n",
       "  <tbody>\n",
       "    <tr>\n",
       "      <th>0</th>\n",
       "      <td>165349.20</td>\n",
       "      <td>136897.80</td>\n",
       "      <td>471784.10</td>\n",
       "      <td>192261.83</td>\n",
       "      <td>1</td>\n",
       "      <td>0</td>\n",
       "      <td>0</td>\n",
       "    </tr>\n",
       "    <tr>\n",
       "      <th>1</th>\n",
       "      <td>162597.70</td>\n",
       "      <td>151377.59</td>\n",
       "      <td>443898.53</td>\n",
       "      <td>191792.06</td>\n",
       "      <td>0</td>\n",
       "      <td>1</td>\n",
       "      <td>0</td>\n",
       "    </tr>\n",
       "    <tr>\n",
       "      <th>2</th>\n",
       "      <td>153441.51</td>\n",
       "      <td>101145.55</td>\n",
       "      <td>407934.54</td>\n",
       "      <td>191050.39</td>\n",
       "      <td>0</td>\n",
       "      <td>0</td>\n",
       "      <td>1</td>\n",
       "    </tr>\n",
       "    <tr>\n",
       "      <th>3</th>\n",
       "      <td>144372.41</td>\n",
       "      <td>118671.85</td>\n",
       "      <td>383199.62</td>\n",
       "      <td>182901.99</td>\n",
       "      <td>1</td>\n",
       "      <td>0</td>\n",
       "      <td>0</td>\n",
       "    </tr>\n",
       "    <tr>\n",
       "      <th>4</th>\n",
       "      <td>142107.34</td>\n",
       "      <td>91391.77</td>\n",
       "      <td>366168.42</td>\n",
       "      <td>166187.94</td>\n",
       "      <td>0</td>\n",
       "      <td>0</td>\n",
       "      <td>1</td>\n",
       "    </tr>\n",
       "  </tbody>\n",
       "</table>\n",
       "</div>"
      ],
      "text/plain": [
       "   R&D Spend  Administration  Marketing Spend     Profit  NewYork_State  \\\n",
       "0  165349.20       136897.80        471784.10  192261.83              1   \n",
       "1  162597.70       151377.59        443898.53  191792.06              0   \n",
       "2  153441.51       101145.55        407934.54  191050.39              0   \n",
       "3  144372.41       118671.85        383199.62  182901.99              1   \n",
       "4  142107.34        91391.77        366168.42  166187.94              0   \n",
       "\n",
       "   California_State  Florida_State  \n",
       "0                 0              0  \n",
       "1                 1              0  \n",
       "2                 0              1  \n",
       "3                 0              0  \n",
       "4                 0              1  "
      ]
     },
     "execution_count": 28,
     "metadata": {},
     "output_type": "execute_result"
    }
   ],
   "source": [
    "dataset.head()"
   ]
  },
  {
   "cell_type": "code",
   "execution_count": 30,
   "metadata": {
    "executionInfo": {
     "elapsed": 1258,
     "status": "ok",
     "timestamp": 1680011334700,
     "user": {
      "displayName": "Amol Patil",
      "userId": "02931329699757759055"
     },
     "user_tz": -330
    },
    "id": "HKfVT8AHjCxL"
   },
   "outputs": [],
   "source": [
    "dependent_variable = 'Profit'"
   ]
  },
  {
   "cell_type": "code",
   "execution_count": 31,
   "metadata": {
    "executionInfo": {
     "elapsed": 1073,
     "status": "ok",
     "timestamp": 1680011339090,
     "user": {
      "displayName": "Amol Patil",
      "userId": "02931329699757759055"
     },
     "user_tz": -330
    },
    "id": "BFF1rXe-jCxM"
   },
   "outputs": [],
   "source": [
    "# Create a list of independent variables\n",
    "independent_variables = list(set(dataset.columns.tolist()) - {dependent_variable})"
   ]
  },
  {
   "cell_type": "code",
   "execution_count": 32,
   "metadata": {
    "colab": {
     "base_uri": "https://localhost:8080/"
    },
    "executionInfo": {
     "elapsed": 628,
     "status": "ok",
     "timestamp": 1680011343769,
     "user": {
      "displayName": "Amol Patil",
      "userId": "02931329699757759055"
     },
     "user_tz": -330
    },
    "id": "PwuXF6FAjCxM",
    "outputId": "b10d373f-aa08-4090-d159-8fb048bba15d"
   },
   "outputs": [
    {
     "data": {
      "text/plain": [
       "['Florida_State',\n",
       " 'Administration',\n",
       " 'R&D Spend',\n",
       " 'Marketing Spend',\n",
       " 'NewYork_State',\n",
       " 'California_State']"
      ]
     },
     "execution_count": 32,
     "metadata": {},
     "output_type": "execute_result"
    }
   ],
   "source": [
    "independent_variables"
   ]
  },
  {
   "cell_type": "code",
   "execution_count": 33,
   "metadata": {
    "executionInfo": {
     "elapsed": 7,
     "status": "ok",
     "timestamp": 1680011347295,
     "user": {
      "displayName": "Amol Patil",
      "userId": "02931329699757759055"
     },
     "user_tz": -330
    },
    "id": "iwvh6DYUjCxM"
   },
   "outputs": [],
   "source": [
    "# Create the data of independent variables\n",
    "X = dataset[independent_variables].values\n",
    "\n",
    "# Create the dependent variable data\n",
    "y = dataset[dependent_variable].values"
   ]
  },
  {
   "cell_type": "code",
   "execution_count": 34,
   "metadata": {
    "colab": {
     "base_uri": "https://localhost:8080/",
     "height": 1000
    },
    "executionInfo": {
     "elapsed": 867,
     "status": "ok",
     "timestamp": 1680012789153,
     "user": {
      "displayName": "Amol Patil",
      "userId": "02931329699757759055"
     },
     "user_tz": -330
    },
    "id": "OXbuKY1fMKOR",
    "outputId": "e3b6eee5-2a69-4465-8d05-3d96aad6a77d"
   },
   "outputs": [
    {
     "data": {
      "text/html": [
       "<div>\n",
       "<style scoped>\n",
       "    .dataframe tbody tr th:only-of-type {\n",
       "        vertical-align: middle;\n",
       "    }\n",
       "\n",
       "    .dataframe tbody tr th {\n",
       "        vertical-align: top;\n",
       "    }\n",
       "\n",
       "    .dataframe thead th {\n",
       "        text-align: right;\n",
       "    }\n",
       "</style>\n",
       "<table border=\"1\" class=\"dataframe\">\n",
       "  <thead>\n",
       "    <tr style=\"text-align: right;\">\n",
       "      <th></th>\n",
       "      <th>Florida_State</th>\n",
       "      <th>Administration</th>\n",
       "      <th>R&amp;D Spend</th>\n",
       "      <th>Marketing Spend</th>\n",
       "      <th>NewYork_State</th>\n",
       "      <th>California_State</th>\n",
       "    </tr>\n",
       "  </thead>\n",
       "  <tbody>\n",
       "    <tr>\n",
       "      <th>0</th>\n",
       "      <td>0</td>\n",
       "      <td>136897.80</td>\n",
       "      <td>165349.20</td>\n",
       "      <td>471784.10</td>\n",
       "      <td>1</td>\n",
       "      <td>0</td>\n",
       "    </tr>\n",
       "    <tr>\n",
       "      <th>1</th>\n",
       "      <td>0</td>\n",
       "      <td>151377.59</td>\n",
       "      <td>162597.70</td>\n",
       "      <td>443898.53</td>\n",
       "      <td>0</td>\n",
       "      <td>1</td>\n",
       "    </tr>\n",
       "    <tr>\n",
       "      <th>2</th>\n",
       "      <td>1</td>\n",
       "      <td>101145.55</td>\n",
       "      <td>153441.51</td>\n",
       "      <td>407934.54</td>\n",
       "      <td>0</td>\n",
       "      <td>0</td>\n",
       "    </tr>\n",
       "    <tr>\n",
       "      <th>3</th>\n",
       "      <td>0</td>\n",
       "      <td>118671.85</td>\n",
       "      <td>144372.41</td>\n",
       "      <td>383199.62</td>\n",
       "      <td>1</td>\n",
       "      <td>0</td>\n",
       "    </tr>\n",
       "    <tr>\n",
       "      <th>4</th>\n",
       "      <td>1</td>\n",
       "      <td>91391.77</td>\n",
       "      <td>142107.34</td>\n",
       "      <td>366168.42</td>\n",
       "      <td>0</td>\n",
       "      <td>0</td>\n",
       "    </tr>\n",
       "    <tr>\n",
       "      <th>5</th>\n",
       "      <td>0</td>\n",
       "      <td>99814.71</td>\n",
       "      <td>131876.90</td>\n",
       "      <td>362861.36</td>\n",
       "      <td>1</td>\n",
       "      <td>0</td>\n",
       "    </tr>\n",
       "    <tr>\n",
       "      <th>6</th>\n",
       "      <td>0</td>\n",
       "      <td>147198.87</td>\n",
       "      <td>134615.46</td>\n",
       "      <td>127716.82</td>\n",
       "      <td>0</td>\n",
       "      <td>1</td>\n",
       "    </tr>\n",
       "    <tr>\n",
       "      <th>7</th>\n",
       "      <td>1</td>\n",
       "      <td>145530.06</td>\n",
       "      <td>130298.13</td>\n",
       "      <td>323876.68</td>\n",
       "      <td>0</td>\n",
       "      <td>0</td>\n",
       "    </tr>\n",
       "    <tr>\n",
       "      <th>8</th>\n",
       "      <td>0</td>\n",
       "      <td>148718.95</td>\n",
       "      <td>120542.52</td>\n",
       "      <td>311613.29</td>\n",
       "      <td>1</td>\n",
       "      <td>0</td>\n",
       "    </tr>\n",
       "    <tr>\n",
       "      <th>9</th>\n",
       "      <td>0</td>\n",
       "      <td>108679.17</td>\n",
       "      <td>123334.88</td>\n",
       "      <td>304981.62</td>\n",
       "      <td>0</td>\n",
       "      <td>1</td>\n",
       "    </tr>\n",
       "    <tr>\n",
       "      <th>10</th>\n",
       "      <td>1</td>\n",
       "      <td>110594.11</td>\n",
       "      <td>101913.08</td>\n",
       "      <td>229160.95</td>\n",
       "      <td>0</td>\n",
       "      <td>0</td>\n",
       "    </tr>\n",
       "    <tr>\n",
       "      <th>11</th>\n",
       "      <td>0</td>\n",
       "      <td>91790.61</td>\n",
       "      <td>100671.96</td>\n",
       "      <td>249744.55</td>\n",
       "      <td>0</td>\n",
       "      <td>1</td>\n",
       "    </tr>\n",
       "    <tr>\n",
       "      <th>12</th>\n",
       "      <td>1</td>\n",
       "      <td>127320.38</td>\n",
       "      <td>93863.75</td>\n",
       "      <td>249839.44</td>\n",
       "      <td>0</td>\n",
       "      <td>0</td>\n",
       "    </tr>\n",
       "    <tr>\n",
       "      <th>13</th>\n",
       "      <td>0</td>\n",
       "      <td>135495.07</td>\n",
       "      <td>91992.39</td>\n",
       "      <td>252664.93</td>\n",
       "      <td>0</td>\n",
       "      <td>1</td>\n",
       "    </tr>\n",
       "    <tr>\n",
       "      <th>14</th>\n",
       "      <td>1</td>\n",
       "      <td>156547.42</td>\n",
       "      <td>119943.24</td>\n",
       "      <td>256512.92</td>\n",
       "      <td>0</td>\n",
       "      <td>0</td>\n",
       "    </tr>\n",
       "    <tr>\n",
       "      <th>15</th>\n",
       "      <td>0</td>\n",
       "      <td>122616.84</td>\n",
       "      <td>114523.61</td>\n",
       "      <td>261776.23</td>\n",
       "      <td>1</td>\n",
       "      <td>0</td>\n",
       "    </tr>\n",
       "    <tr>\n",
       "      <th>16</th>\n",
       "      <td>0</td>\n",
       "      <td>121597.55</td>\n",
       "      <td>78013.11</td>\n",
       "      <td>264346.06</td>\n",
       "      <td>0</td>\n",
       "      <td>1</td>\n",
       "    </tr>\n",
       "    <tr>\n",
       "      <th>17</th>\n",
       "      <td>0</td>\n",
       "      <td>145077.58</td>\n",
       "      <td>94657.16</td>\n",
       "      <td>282574.31</td>\n",
       "      <td>1</td>\n",
       "      <td>0</td>\n",
       "    </tr>\n",
       "    <tr>\n",
       "      <th>18</th>\n",
       "      <td>1</td>\n",
       "      <td>114175.79</td>\n",
       "      <td>91749.16</td>\n",
       "      <td>294919.57</td>\n",
       "      <td>0</td>\n",
       "      <td>0</td>\n",
       "    </tr>\n",
       "    <tr>\n",
       "      <th>19</th>\n",
       "      <td>0</td>\n",
       "      <td>153514.11</td>\n",
       "      <td>86419.70</td>\n",
       "      <td>0.00</td>\n",
       "      <td>1</td>\n",
       "      <td>0</td>\n",
       "    </tr>\n",
       "    <tr>\n",
       "      <th>20</th>\n",
       "      <td>0</td>\n",
       "      <td>113867.30</td>\n",
       "      <td>76253.86</td>\n",
       "      <td>298664.47</td>\n",
       "      <td>0</td>\n",
       "      <td>1</td>\n",
       "    </tr>\n",
       "    <tr>\n",
       "      <th>21</th>\n",
       "      <td>0</td>\n",
       "      <td>153773.43</td>\n",
       "      <td>78389.47</td>\n",
       "      <td>299737.29</td>\n",
       "      <td>1</td>\n",
       "      <td>0</td>\n",
       "    </tr>\n",
       "    <tr>\n",
       "      <th>22</th>\n",
       "      <td>1</td>\n",
       "      <td>122782.75</td>\n",
       "      <td>73994.56</td>\n",
       "      <td>303319.26</td>\n",
       "      <td>0</td>\n",
       "      <td>0</td>\n",
       "    </tr>\n",
       "    <tr>\n",
       "      <th>23</th>\n",
       "      <td>1</td>\n",
       "      <td>105751.03</td>\n",
       "      <td>67532.53</td>\n",
       "      <td>304768.73</td>\n",
       "      <td>0</td>\n",
       "      <td>0</td>\n",
       "    </tr>\n",
       "    <tr>\n",
       "      <th>24</th>\n",
       "      <td>0</td>\n",
       "      <td>99281.34</td>\n",
       "      <td>77044.01</td>\n",
       "      <td>140574.81</td>\n",
       "      <td>1</td>\n",
       "      <td>0</td>\n",
       "    </tr>\n",
       "    <tr>\n",
       "      <th>25</th>\n",
       "      <td>0</td>\n",
       "      <td>139553.16</td>\n",
       "      <td>64664.71</td>\n",
       "      <td>137962.62</td>\n",
       "      <td>0</td>\n",
       "      <td>1</td>\n",
       "    </tr>\n",
       "    <tr>\n",
       "      <th>26</th>\n",
       "      <td>1</td>\n",
       "      <td>144135.98</td>\n",
       "      <td>75328.87</td>\n",
       "      <td>134050.07</td>\n",
       "      <td>0</td>\n",
       "      <td>0</td>\n",
       "    </tr>\n",
       "    <tr>\n",
       "      <th>27</th>\n",
       "      <td>0</td>\n",
       "      <td>127864.55</td>\n",
       "      <td>72107.60</td>\n",
       "      <td>353183.81</td>\n",
       "      <td>1</td>\n",
       "      <td>0</td>\n",
       "    </tr>\n",
       "    <tr>\n",
       "      <th>28</th>\n",
       "      <td>1</td>\n",
       "      <td>182645.56</td>\n",
       "      <td>66051.52</td>\n",
       "      <td>118148.20</td>\n",
       "      <td>0</td>\n",
       "      <td>0</td>\n",
       "    </tr>\n",
       "    <tr>\n",
       "      <th>29</th>\n",
       "      <td>0</td>\n",
       "      <td>153032.06</td>\n",
       "      <td>65605.48</td>\n",
       "      <td>107138.38</td>\n",
       "      <td>1</td>\n",
       "      <td>0</td>\n",
       "    </tr>\n",
       "    <tr>\n",
       "      <th>30</th>\n",
       "      <td>1</td>\n",
       "      <td>115641.28</td>\n",
       "      <td>61994.48</td>\n",
       "      <td>91131.24</td>\n",
       "      <td>0</td>\n",
       "      <td>0</td>\n",
       "    </tr>\n",
       "    <tr>\n",
       "      <th>31</th>\n",
       "      <td>0</td>\n",
       "      <td>152701.92</td>\n",
       "      <td>61136.38</td>\n",
       "      <td>88218.23</td>\n",
       "      <td>1</td>\n",
       "      <td>0</td>\n",
       "    </tr>\n",
       "    <tr>\n",
       "      <th>32</th>\n",
       "      <td>0</td>\n",
       "      <td>129219.61</td>\n",
       "      <td>63408.86</td>\n",
       "      <td>46085.25</td>\n",
       "      <td>0</td>\n",
       "      <td>1</td>\n",
       "    </tr>\n",
       "    <tr>\n",
       "      <th>33</th>\n",
       "      <td>1</td>\n",
       "      <td>103057.49</td>\n",
       "      <td>55493.95</td>\n",
       "      <td>214634.81</td>\n",
       "      <td>0</td>\n",
       "      <td>0</td>\n",
       "    </tr>\n",
       "    <tr>\n",
       "      <th>34</th>\n",
       "      <td>0</td>\n",
       "      <td>157693.92</td>\n",
       "      <td>46426.07</td>\n",
       "      <td>210797.67</td>\n",
       "      <td>0</td>\n",
       "      <td>1</td>\n",
       "    </tr>\n",
       "    <tr>\n",
       "      <th>35</th>\n",
       "      <td>0</td>\n",
       "      <td>85047.44</td>\n",
       "      <td>46014.02</td>\n",
       "      <td>205517.64</td>\n",
       "      <td>1</td>\n",
       "      <td>0</td>\n",
       "    </tr>\n",
       "    <tr>\n",
       "      <th>36</th>\n",
       "      <td>1</td>\n",
       "      <td>127056.21</td>\n",
       "      <td>28663.76</td>\n",
       "      <td>201126.82</td>\n",
       "      <td>0</td>\n",
       "      <td>0</td>\n",
       "    </tr>\n",
       "    <tr>\n",
       "      <th>37</th>\n",
       "      <td>0</td>\n",
       "      <td>51283.14</td>\n",
       "      <td>44069.95</td>\n",
       "      <td>197029.42</td>\n",
       "      <td>0</td>\n",
       "      <td>1</td>\n",
       "    </tr>\n",
       "    <tr>\n",
       "      <th>38</th>\n",
       "      <td>0</td>\n",
       "      <td>65947.93</td>\n",
       "      <td>20229.59</td>\n",
       "      <td>185265.10</td>\n",
       "      <td>1</td>\n",
       "      <td>0</td>\n",
       "    </tr>\n",
       "    <tr>\n",
       "      <th>39</th>\n",
       "      <td>0</td>\n",
       "      <td>82982.09</td>\n",
       "      <td>38558.51</td>\n",
       "      <td>174999.30</td>\n",
       "      <td>0</td>\n",
       "      <td>1</td>\n",
       "    </tr>\n",
       "    <tr>\n",
       "      <th>40</th>\n",
       "      <td>0</td>\n",
       "      <td>118546.05</td>\n",
       "      <td>28754.33</td>\n",
       "      <td>172795.67</td>\n",
       "      <td>0</td>\n",
       "      <td>1</td>\n",
       "    </tr>\n",
       "    <tr>\n",
       "      <th>41</th>\n",
       "      <td>1</td>\n",
       "      <td>84710.77</td>\n",
       "      <td>27892.92</td>\n",
       "      <td>164470.71</td>\n",
       "      <td>0</td>\n",
       "      <td>0</td>\n",
       "    </tr>\n",
       "    <tr>\n",
       "      <th>42</th>\n",
       "      <td>0</td>\n",
       "      <td>96189.63</td>\n",
       "      <td>23640.93</td>\n",
       "      <td>148001.11</td>\n",
       "      <td>0</td>\n",
       "      <td>1</td>\n",
       "    </tr>\n",
       "    <tr>\n",
       "      <th>43</th>\n",
       "      <td>0</td>\n",
       "      <td>127382.30</td>\n",
       "      <td>15505.73</td>\n",
       "      <td>35534.17</td>\n",
       "      <td>1</td>\n",
       "      <td>0</td>\n",
       "    </tr>\n",
       "    <tr>\n",
       "      <th>44</th>\n",
       "      <td>0</td>\n",
       "      <td>154806.14</td>\n",
       "      <td>22177.74</td>\n",
       "      <td>28334.72</td>\n",
       "      <td>0</td>\n",
       "      <td>1</td>\n",
       "    </tr>\n",
       "    <tr>\n",
       "      <th>45</th>\n",
       "      <td>0</td>\n",
       "      <td>124153.04</td>\n",
       "      <td>1000.23</td>\n",
       "      <td>1903.93</td>\n",
       "      <td>1</td>\n",
       "      <td>0</td>\n",
       "    </tr>\n",
       "    <tr>\n",
       "      <th>46</th>\n",
       "      <td>1</td>\n",
       "      <td>115816.21</td>\n",
       "      <td>1315.46</td>\n",
       "      <td>297114.46</td>\n",
       "      <td>0</td>\n",
       "      <td>0</td>\n",
       "    </tr>\n",
       "    <tr>\n",
       "      <th>47</th>\n",
       "      <td>0</td>\n",
       "      <td>135426.92</td>\n",
       "      <td>0.00</td>\n",
       "      <td>0.00</td>\n",
       "      <td>0</td>\n",
       "      <td>1</td>\n",
       "    </tr>\n",
       "    <tr>\n",
       "      <th>48</th>\n",
       "      <td>0</td>\n",
       "      <td>51743.15</td>\n",
       "      <td>542.05</td>\n",
       "      <td>0.00</td>\n",
       "      <td>1</td>\n",
       "      <td>0</td>\n",
       "    </tr>\n",
       "    <tr>\n",
       "      <th>49</th>\n",
       "      <td>0</td>\n",
       "      <td>116983.80</td>\n",
       "      <td>0.00</td>\n",
       "      <td>45173.06</td>\n",
       "      <td>0</td>\n",
       "      <td>1</td>\n",
       "    </tr>\n",
       "  </tbody>\n",
       "</table>\n",
       "</div>"
      ],
      "text/plain": [
       "    Florida_State  Administration  R&D Spend  Marketing Spend  NewYork_State  \\\n",
       "0               0       136897.80  165349.20        471784.10              1   \n",
       "1               0       151377.59  162597.70        443898.53              0   \n",
       "2               1       101145.55  153441.51        407934.54              0   \n",
       "3               0       118671.85  144372.41        383199.62              1   \n",
       "4               1        91391.77  142107.34        366168.42              0   \n",
       "5               0        99814.71  131876.90        362861.36              1   \n",
       "6               0       147198.87  134615.46        127716.82              0   \n",
       "7               1       145530.06  130298.13        323876.68              0   \n",
       "8               0       148718.95  120542.52        311613.29              1   \n",
       "9               0       108679.17  123334.88        304981.62              0   \n",
       "10              1       110594.11  101913.08        229160.95              0   \n",
       "11              0        91790.61  100671.96        249744.55              0   \n",
       "12              1       127320.38   93863.75        249839.44              0   \n",
       "13              0       135495.07   91992.39        252664.93              0   \n",
       "14              1       156547.42  119943.24        256512.92              0   \n",
       "15              0       122616.84  114523.61        261776.23              1   \n",
       "16              0       121597.55   78013.11        264346.06              0   \n",
       "17              0       145077.58   94657.16        282574.31              1   \n",
       "18              1       114175.79   91749.16        294919.57              0   \n",
       "19              0       153514.11   86419.70             0.00              1   \n",
       "20              0       113867.30   76253.86        298664.47              0   \n",
       "21              0       153773.43   78389.47        299737.29              1   \n",
       "22              1       122782.75   73994.56        303319.26              0   \n",
       "23              1       105751.03   67532.53        304768.73              0   \n",
       "24              0        99281.34   77044.01        140574.81              1   \n",
       "25              0       139553.16   64664.71        137962.62              0   \n",
       "26              1       144135.98   75328.87        134050.07              0   \n",
       "27              0       127864.55   72107.60        353183.81              1   \n",
       "28              1       182645.56   66051.52        118148.20              0   \n",
       "29              0       153032.06   65605.48        107138.38              1   \n",
       "30              1       115641.28   61994.48         91131.24              0   \n",
       "31              0       152701.92   61136.38         88218.23              1   \n",
       "32              0       129219.61   63408.86         46085.25              0   \n",
       "33              1       103057.49   55493.95        214634.81              0   \n",
       "34              0       157693.92   46426.07        210797.67              0   \n",
       "35              0        85047.44   46014.02        205517.64              1   \n",
       "36              1       127056.21   28663.76        201126.82              0   \n",
       "37              0        51283.14   44069.95        197029.42              0   \n",
       "38              0        65947.93   20229.59        185265.10              1   \n",
       "39              0        82982.09   38558.51        174999.30              0   \n",
       "40              0       118546.05   28754.33        172795.67              0   \n",
       "41              1        84710.77   27892.92        164470.71              0   \n",
       "42              0        96189.63   23640.93        148001.11              0   \n",
       "43              0       127382.30   15505.73         35534.17              1   \n",
       "44              0       154806.14   22177.74         28334.72              0   \n",
       "45              0       124153.04    1000.23          1903.93              1   \n",
       "46              1       115816.21    1315.46        297114.46              0   \n",
       "47              0       135426.92       0.00             0.00              0   \n",
       "48              0        51743.15     542.05             0.00              1   \n",
       "49              0       116983.80       0.00         45173.06              0   \n",
       "\n",
       "    California_State  \n",
       "0                  0  \n",
       "1                  1  \n",
       "2                  0  \n",
       "3                  0  \n",
       "4                  0  \n",
       "5                  0  \n",
       "6                  1  \n",
       "7                  0  \n",
       "8                  0  \n",
       "9                  1  \n",
       "10                 0  \n",
       "11                 1  \n",
       "12                 0  \n",
       "13                 1  \n",
       "14                 0  \n",
       "15                 0  \n",
       "16                 1  \n",
       "17                 0  \n",
       "18                 0  \n",
       "19                 0  \n",
       "20                 1  \n",
       "21                 0  \n",
       "22                 0  \n",
       "23                 0  \n",
       "24                 0  \n",
       "25                 1  \n",
       "26                 0  \n",
       "27                 0  \n",
       "28                 0  \n",
       "29                 0  \n",
       "30                 0  \n",
       "31                 0  \n",
       "32                 1  \n",
       "33                 0  \n",
       "34                 1  \n",
       "35                 0  \n",
       "36                 0  \n",
       "37                 1  \n",
       "38                 0  \n",
       "39                 1  \n",
       "40                 1  \n",
       "41                 0  \n",
       "42                 1  \n",
       "43                 0  \n",
       "44                 1  \n",
       "45                 0  \n",
       "46                 0  \n",
       "47                 1  \n",
       "48                 0  \n",
       "49                 1  "
      ]
     },
     "execution_count": 34,
     "metadata": {},
     "output_type": "execute_result"
    }
   ],
   "source": [
    "dataset[independent_variables]"
   ]
  },
  {
   "cell_type": "code",
   "execution_count": 35,
   "metadata": {
    "executionInfo": {
     "elapsed": 2255,
     "status": "ok",
     "timestamp": 1680012804297,
     "user": {
      "displayName": "Amol Patil",
      "userId": "02931329699757759055"
     },
     "user_tz": -330
    },
    "id": "u0pTjm94jCxN"
   },
   "outputs": [],
   "source": [
    "# Splitting the dataset into the Training set and Test set\n",
    "X_train, X_test, y_train, y_test = train_test_split(X, y, test_size = 0.2, random_state = 0)"
   ]
  },
  {
   "cell_type": "code",
   "execution_count": 36,
   "metadata": {
    "colab": {
     "base_uri": "https://localhost:8080/"
    },
    "executionInfo": {
     "elapsed": 413,
     "status": "ok",
     "timestamp": 1680012868440,
     "user": {
      "displayName": "Amol Patil",
      "userId": "02931329699757759055"
     },
     "user_tz": -330
    },
    "id": "26qmaXaVLDQ6",
    "outputId": "35aeccf9-11ac-4a4c-cdd9-2dbad5395315"
   },
   "outputs": [
    {
     "data": {
      "text/plain": [
       "array([[1.0000000e+00, 1.0305749e+05, 5.5493950e+04, 2.1463481e+05,\n",
       "        0.0000000e+00, 0.0000000e+00],\n",
       "       [0.0000000e+00, 8.5047440e+04, 4.6014020e+04, 2.0551764e+05,\n",
       "        1.0000000e+00, 0.0000000e+00],\n",
       "       [1.0000000e+00, 1.4413598e+05, 7.5328870e+04, 1.3405007e+05,\n",
       "        0.0000000e+00, 0.0000000e+00],\n",
       "       [0.0000000e+00, 1.5769392e+05, 4.6426070e+04, 2.1079767e+05,\n",
       "        0.0000000e+00, 1.0000000e+00],\n",
       "       [1.0000000e+00, 1.1417579e+05, 9.1749160e+04, 2.9491957e+05,\n",
       "        0.0000000e+00, 0.0000000e+00],\n",
       "       [1.0000000e+00, 1.4553006e+05, 1.3029813e+05, 3.2387668e+05,\n",
       "        0.0000000e+00, 0.0000000e+00],\n",
       "       [1.0000000e+00, 1.5654742e+05, 1.1994324e+05, 2.5651292e+05,\n",
       "        0.0000000e+00, 0.0000000e+00],\n",
       "       [0.0000000e+00, 1.2415304e+05, 1.0002300e+03, 1.9039300e+03,\n",
       "        1.0000000e+00, 0.0000000e+00],\n",
       "       [0.0000000e+00, 5.1743150e+04, 5.4205000e+02, 0.0000000e+00,\n",
       "        1.0000000e+00, 0.0000000e+00],\n",
       "       [0.0000000e+00, 1.5303206e+05, 6.5605480e+04, 1.0713838e+05,\n",
       "        1.0000000e+00, 0.0000000e+00]])"
      ]
     },
     "execution_count": 36,
     "metadata": {},
     "output_type": "execute_result"
    }
   ],
   "source": [
    "X_train[0:10]"
   ]
  },
  {
   "cell_type": "code",
   "execution_count": 54,
   "metadata": {
    "executionInfo": {
     "elapsed": 447,
     "status": "ok",
     "timestamp": 1680012879294,
     "user": {
      "displayName": "Amol Patil",
      "userId": "02931329699757759055"
     },
     "user_tz": -330
    },
    "id": "ItSua8fKjCxN"
   },
   "outputs": [],
   "source": [
    "# Transforming data\n",
    "scaler = MinMaxScaler()\n",
    "X_train = scaler.fit_transform(X_train)\n",
    "X_test = scaler.transform(X_test)"
   ]
  },
  {
   "cell_type": "code",
   "execution_count": 55,
   "metadata": {
    "colab": {
     "base_uri": "https://localhost:8080/"
    },
    "executionInfo": {
     "elapsed": 482,
     "status": "ok",
     "timestamp": 1680012982163,
     "user": {
      "displayName": "Amol Patil",
      "userId": "02931329699757759055"
     },
     "user_tz": -330
    },
    "id": "UAZ0eFcOjCxN",
    "outputId": "3d0a1747-40f9-4384-fe61-f15be00ef1d7"
   },
   "outputs": [
    {
     "data": {
      "text/plain": [
       "array([[1.        , 0.48655174, 0.33561668, 0.45494286, 0.        ,\n",
       "        0.        ],\n",
       "       [0.        , 0.3173015 , 0.2782839 , 0.43561799, 1.        ,\n",
       "        0.        ],\n",
       "       [1.        , 0.87258866, 0.45557444, 0.28413435, 0.        ,\n",
       "        0.        ],\n",
       "       [0.        , 1.        , 0.2807759 , 0.44680961, 0.        ,\n",
       "        1.        ],\n",
       "       [1.        , 0.59103645, 0.55488118, 0.62511553, 0.        ,\n",
       "        0.        ],\n",
       "       [1.        , 0.88568959, 0.7880179 , 0.68649342, 0.        ,\n",
       "        0.        ],\n",
       "       [1.        , 0.98922572, 0.72539353, 0.54370828, 0.        ,\n",
       "        0.        ],\n",
       "       [0.        , 0.6847981 , 0.0060492 , 0.0040356 , 1.        ,\n",
       "        0.        ],\n",
       "       [0.        , 0.00432296, 0.00327821, 0.        , 1.        ,\n",
       "        0.        ],\n",
       "       [0.        , 0.95618996, 0.39676926, 0.22709197, 1.        ,\n",
       "        0.        ]])"
      ]
     },
     "execution_count": 55,
     "metadata": {},
     "output_type": "execute_result"
    }
   ],
   "source": [
    "X_train[0:10]"
   ]
  },
  {
   "cell_type": "code",
   "execution_count": 56,
   "metadata": {
    "colab": {
     "base_uri": "https://localhost:8080/",
     "height": 52
    },
    "executionInfo": {
     "elapsed": 1422,
     "status": "ok",
     "timestamp": 1680013053501,
     "user": {
      "displayName": "Amol Patil",
      "userId": "02931329699757759055"
     },
     "user_tz": -330
    },
    "id": "5KalyOkljCxN",
    "outputId": "dfedd0b4-9fea-4354-c387-6802b4166954"
   },
   "outputs": [
    {
     "data": {
      "text/plain": [
       "LinearRegression()"
      ]
     },
     "execution_count": 56,
     "metadata": {},
     "output_type": "execute_result"
    }
   ],
   "source": [
    "# Fitting Multiple Linear Regression to the Training set\n",
    "regressor = LinearRegression()\n",
    "regressor.fit(X_train, y_train)"
   ]
  },
  {
   "cell_type": "code",
   "execution_count": 42,
   "metadata": {
    "colab": {
     "base_uri": "https://localhost:8080/"
    },
    "executionInfo": {
     "elapsed": 1296,
     "status": "ok",
     "timestamp": 1680013057493,
     "user": {
      "displayName": "Amol Patil",
      "userId": "02931329699757759055"
     },
     "user_tz": -330
    },
    "id": "d3yiMudZWWUL",
    "outputId": "53ec286e-31a1-4eaa-ba9d-d46be7073146"
   },
   "outputs": [
    {
     "data": {
      "text/plain": [
       "44153.9546678486"
      ]
     },
     "execution_count": 42,
     "metadata": {},
     "output_type": "execute_result"
    }
   ],
   "source": [
    "regressor.intercept_"
   ]
  },
  {
   "cell_type": "code",
   "execution_count": 43,
   "metadata": {
    "colab": {
     "base_uri": "https://localhost:8080/"
    },
    "executionInfo": {
     "elapsed": 1242,
     "status": "ok",
     "timestamp": 1680013067730,
     "user": {
      "displayName": "Amol Patil",
      "userId": "02931329699757759055"
     },
     "user_tz": -330
    },
    "id": "14hFZrgyWbJX",
    "outputId": "e33e2fe2-6039-4db2-ebd6-42f25308d2e3"
   },
   "outputs": [
    {
     "data": {
      "text/plain": [
       "array([-8.72645791e+02,  3.49927567e+03,  1.27892182e+05,  1.72720281e+04,\n",
       "        7.86007422e+02,  8.66383692e+01])"
      ]
     },
     "execution_count": 43,
     "metadata": {},
     "output_type": "execute_result"
    }
   ],
   "source": [
    "regressor.coef_"
   ]
  },
  {
   "cell_type": "code",
   "execution_count": 44,
   "metadata": {
    "executionInfo": {
     "elapsed": 8,
     "status": "ok",
     "timestamp": 1680013070636,
     "user": {
      "displayName": "Amol Patil",
      "userId": "02931329699757759055"
     },
     "user_tz": -330
    },
    "id": "SUlaN57qWqRV"
   },
   "outputs": [],
   "source": [
    "y_pred_train = regressor.predict(X_train)"
   ]
  },
  {
   "cell_type": "code",
   "execution_count": 45,
   "metadata": {
    "colab": {
     "base_uri": "https://localhost:8080/"
    },
    "executionInfo": {
     "elapsed": 9,
     "status": "ok",
     "timestamp": 1680013074108,
     "user": {
      "displayName": "Amol Patil",
      "userId": "02931329699757759055"
     },
     "user_tz": -330
    },
    "id": "czdsv0trW6su",
    "outputId": "68bff056-a252-4294-97c9-72a0fcc01983"
   },
   "outputs": [
    {
     "data": {
      "text/plain": [
       "array([ 96778.92,  96479.51, 105733.54,  96712.8 , 124266.9 , 155752.6 ,\n",
       "       132602.65,  64926.08,  35673.41, 101004.64, 129917.04,  99937.59,\n",
       "        97427.84, 126992.93,  71498.49, 118474.03,  69758.98, 152211.77,\n",
       "       134307.35, 107404.34, 156991.12, 125370.37,  78239.91,  14681.4 ,\n",
       "       191792.06, 141585.52,  89949.14, 108552.04, 156122.51, 108733.99,\n",
       "        90708.19, 111313.02, 122776.86, 149759.96,  81005.76,  49490.75,\n",
       "       182901.99, 192261.83,  42559.73,  65200.33])"
      ]
     },
     "execution_count": 45,
     "metadata": {},
     "output_type": "execute_result"
    }
   ],
   "source": [
    "y_train"
   ]
  },
  {
   "cell_type": "code",
   "execution_count": 46,
   "metadata": {
    "executionInfo": {
     "elapsed": 492,
     "status": "ok",
     "timestamp": 1680013078776,
     "user": {
      "displayName": "Amol Patil",
      "userId": "02931329699757759055"
     },
     "user_tz": -330
    },
    "id": "hlsE-TkojCxO"
   },
   "outputs": [],
   "source": [
    "# Predicting the Test set results\n",
    "y_pred = regressor.predict(X_test)"
   ]
  },
  {
   "cell_type": "code",
   "execution_count": 47,
   "metadata": {
    "colab": {
     "base_uri": "https://localhost:8080/"
    },
    "executionInfo": {
     "elapsed": 566,
     "status": "ok",
     "timestamp": 1680013083054,
     "user": {
      "displayName": "Amol Patil",
      "userId": "02931329699757759055"
     },
     "user_tz": -330
    },
    "id": "dDB6XNNFXVAC",
    "outputId": "7c113418-9b8c-414d-81eb-2558edb4c428"
   },
   "outputs": [
    {
     "data": {
      "text/plain": [
       "array([103015.20159796, 132582.27760816, 132447.73845174,  71976.09851258,\n",
       "       178537.48221055, 116161.24230165,  67851.69209676,  98791.73374687,\n",
       "       113969.43533012, 167921.0656955 ])"
      ]
     },
     "execution_count": 47,
     "metadata": {},
     "output_type": "execute_result"
    }
   ],
   "source": [
    "#Predicted profit on the test data\n",
    "y_pred"
   ]
  },
  {
   "cell_type": "code",
   "execution_count": 48,
   "metadata": {
    "colab": {
     "base_uri": "https://localhost:8080/"
    },
    "executionInfo": {
     "elapsed": 9,
     "status": "ok",
     "timestamp": 1680013086363,
     "user": {
      "displayName": "Amol Patil",
      "userId": "02931329699757759055"
     },
     "user_tz": -330
    },
    "id": "cX5kfj7vXUyb",
    "outputId": "7e4339ca-61c0-4561-9bf0-ef4a058382cb"
   },
   "outputs": [
    {
     "data": {
      "text/plain": [
       "array([103282.38, 144259.4 , 146121.95,  77798.83, 191050.39, 105008.31,\n",
       "        81229.06,  97483.56, 110352.25, 166187.94])"
      ]
     },
     "execution_count": 48,
     "metadata": {},
     "output_type": "execute_result"
    }
   ],
   "source": [
    "# Actual profits on test data\n",
    "y_test"
   ]
  },
  {
   "cell_type": "code",
   "execution_count": 49,
   "metadata": {
    "colab": {
     "base_uri": "https://localhost:8080/"
    },
    "executionInfo": {
     "elapsed": 535,
     "status": "ok",
     "timestamp": 1680013091099,
     "user": {
      "displayName": "Amol Patil",
      "userId": "02931329699757759055"
     },
     "user_tz": -330
    },
    "id": "POty7TU9Xpcd",
    "outputId": "c98b17d4-b5dd-4124-eb01-c15a45aed889"
   },
   "outputs": [
    {
     "data": {
      "text/plain": [
       "83502864.03257713"
      ]
     },
     "execution_count": 49,
     "metadata": {},
     "output_type": "execute_result"
    }
   ],
   "source": [
    "mean_squared_error(y_test, y_pred)"
   ]
  },
  {
   "cell_type": "code",
   "execution_count": 50,
   "metadata": {
    "colab": {
     "base_uri": "https://localhost:8080/"
    },
    "executionInfo": {
     "elapsed": 4,
     "status": "ok",
     "timestamp": 1680013093213,
     "user": {
      "displayName": "Amol Patil",
      "userId": "02931329699757759055"
     },
     "user_tz": -330
    },
    "id": "XMz4SJpkN0g_",
    "outputId": "6f470e26-795f-4631-9406-1c91862a71f8"
   },
   "outputs": [
    {
     "data": {
      "text/plain": [
       "9031.666612578969"
      ]
     },
     "execution_count": 50,
     "metadata": {},
     "output_type": "execute_result"
    }
   ],
   "source": [
    "# Train performance\n",
    "math.sqrt(mean_squared_error(y_train, y_pred_train))"
   ]
  },
  {
   "cell_type": "code",
   "execution_count": 51,
   "metadata": {
    "colab": {
     "base_uri": "https://localhost:8080/"
    },
    "executionInfo": {
     "elapsed": 653,
     "status": "ok",
     "timestamp": 1680013097373,
     "user": {
      "displayName": "Amol Patil",
      "userId": "02931329699757759055"
     },
     "user_tz": -330
    },
    "id": "lJUpat5kjCxO",
    "outputId": "8116a787-2ee9-48ba-dfcc-2721e6c62846"
   },
   "outputs": [
    {
     "data": {
      "text/plain": [
       "9137.990152794931"
      ]
     },
     "execution_count": 51,
     "metadata": {},
     "output_type": "execute_result"
    }
   ],
   "source": [
    "# Test performance\n",
    "math.sqrt(mean_squared_error(y_test, y_pred))"
   ]
  },
  {
   "cell_type": "code",
   "execution_count": 52,
   "metadata": {
    "colab": {
     "base_uri": "https://localhost:8080/"
    },
    "executionInfo": {
     "elapsed": 393,
     "status": "ok",
     "timestamp": 1680013101087,
     "user": {
      "displayName": "Amol Patil",
      "userId": "02931329699757759055"
     },
     "user_tz": -330
    },
    "id": "9ytZKFhyOKQu",
    "outputId": "27fe9a28-a331-45a6-8749-94e0ddab40f4"
   },
   "outputs": [
    {
     "data": {
      "text/plain": [
       "0.9501847627493607"
      ]
     },
     "execution_count": 52,
     "metadata": {},
     "output_type": "execute_result"
    }
   ],
   "source": [
    "r2_score(y_train, y_pred_train)"
   ]
  },
  {
   "cell_type": "code",
   "execution_count": 53,
   "metadata": {
    "colab": {
     "base_uri": "https://localhost:8080/"
    },
    "executionInfo": {
     "elapsed": 674,
     "status": "ok",
     "timestamp": 1680013103565,
     "user": {
      "displayName": "Amol Patil",
      "userId": "02931329699757759055"
     },
     "user_tz": -330
    },
    "id": "tLCyVe2WjCxO",
    "outputId": "6df041e9-a78d-4c6f-e1c1-1c6952d2154f"
   },
   "outputs": [
    {
     "data": {
      "text/plain": [
       "0.9347068473282427"
      ]
     },
     "execution_count": 53,
     "metadata": {},
     "output_type": "execute_result"
    }
   ],
   "source": [
    "r2_score(y_test, y_pred)"
   ]
  },
  {
   "cell_type": "code",
   "execution_count": null,
   "metadata": {
    "id": "ZksP1cmJo5Sq"
   },
   "outputs": [],
   "source": []
  }
 ],
 "metadata": {
  "colab": {
   "provenance": [
    {
     "file_id": "1TlkNusHpzJWeggWSec9t-pljsYDU55-r",
     "timestamp": 1680008267942
    },
    {
     "file_id": "1SDHP142TktwgLbmKfWxEcWL1rlGLUKdz",
     "timestamp": 1607518147553
    }
   ]
  },
  "kernelspec": {
   "display_name": "Python 3 (ipykernel)",
   "language": "python",
   "name": "python3"
  },
  "language_info": {
   "codemirror_mode": {
    "name": "ipython",
    "version": 3
   },
   "file_extension": ".py",
   "mimetype": "text/x-python",
   "name": "python",
   "nbconvert_exporter": "python",
   "pygments_lexer": "ipython3",
   "version": "3.9.12"
  }
 },
 "nbformat": 4,
 "nbformat_minor": 1
}
